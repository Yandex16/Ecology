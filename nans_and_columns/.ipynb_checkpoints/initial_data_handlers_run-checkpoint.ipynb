{
 "cells": [
  {
   "cell_type": "code",
   "execution_count": 2,
   "id": "e07b264b-a434-4294-87f3-5d4e0e355407",
   "metadata": {},
   "outputs": [],
   "source": [
    "import pandas as pd"
   ]
  },
  {
   "cell_type": "code",
   "execution_count": 3,
   "id": "d42b20e3-fe8c-4664-94d6-bc51c04fc6ab",
   "metadata": {},
   "outputs": [],
   "source": [
    "def nan_to_median(df: pd.DataFrame):\n",
    "    for column in df.select_dtypes(include='float64').columns:\n",
    "        median_val = df[column].median()\n",
    "        df[column] = df[column].fillna(median_val)\n",
    "    return df\n",
    "\n",
    "\n",
    "def nan_to_interpolate(df: pd.DataFrame):\n",
    "    for column in df.select_dtypes(include='float64').columns:\n",
    "        # limit_direction определяет, в каком направлении должна проводиться интерполяция:\n",
    "        # вперед, назад или в обоих направлениях для оценки недостающих значений.\n",
    "        df[column] = df[column].interpolate(method='linear', limit_direction='both')\n",
    "    return df"
   ]
  },
  {
   "cell_type": "code",
   "execution_count": 4,
   "id": "01d6824d-9c32-4395-8cd8-38b14bbb3155",
   "metadata": {},
   "outputs": [],
   "source": [
    "def convert_to_DateTime(df: pd.DataFrame):\n",
    "    df['DateTime'] = pd.to_datetime(df['DateTime'])"
   ]
  },
  {
   "cell_type": "code",
   "execution_count": 5,
   "id": "f9720360-2b8b-47cd-bc29-6fa676c30bba",
   "metadata": {},
   "outputs": [],
   "source": [
    "def convert_to_category(df: pd.DataFrame):\n",
    "    df['work_shift'] = df['work_shift'].fillna(df['work_shift'].mode()[0])\n",
    "    df['work_shift'] = df['work_shift'].astype(int).astype('category')\n",
    "    return df"
   ]
  }
 ],
 "metadata": {
  "kernelspec": {
   "display_name": "Python 3 (ipykernel)",
   "language": "python",
   "name": "python3"
  },
  "language_info": {
   "codemirror_mode": {
    "name": "ipython",
    "version": 3
   },
   "file_extension": ".py",
   "mimetype": "text/x-python",
   "name": "python",
   "nbconvert_exporter": "python",
   "pygments_lexer": "ipython3",
   "version": "3.11.1"
  }
 },
 "nbformat": 4,
 "nbformat_minor": 5
}
