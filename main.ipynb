{
 "cells": [
  {
   "cell_type": "code",
   "execution_count": 52,
   "id": "84420fb5-5ba1-4d15-924b-129ae33206d7",
   "metadata": {},
   "outputs": [],
   "source": [
    "import pandas as pd"
   ]
  },
  {
   "cell_type": "code",
   "execution_count": 53,
   "id": "9f2c6349-8735-48c8-af66-b7354ea4e164",
   "metadata": {},
   "outputs": [],
   "source": [
    "PATH = 'analysing_environmental_issues.csv'\n",
    "df = pd.read_csv(PATH, sep=\",\")"
   ]
  },
  {
   "cell_type": "code",
   "execution_count": 54,
   "id": "62483663-2d81-417f-8ebb-35c5e9034327",
   "metadata": {},
   "outputs": [],
   "source": [
    "%run remove_outliers/remove_outliers_run.ipynb\n",
    "\n",
    "df = hybrid_outlier_handling(df, df.columns[1:-1])\n",
    "# Для проверки, что все работает\n",
    "# draw_boxplots_for_all_columns(df)\n",
    "# draw_histograms_for_all_columns(df)"
   ]
  },
  {
   "cell_type": "code",
   "execution_count": 55,
   "id": "5a4c7990-e0a8-4d2b-81af-44085a420060",
   "metadata": {},
   "outputs": [],
   "source": [
    "%run nans_and_columns/initial_data_handlers_run.ipynb\n",
    "\n",
    "convert_to_DateTime(df)\n",
    "# Для проверки, что все работает\n",
    "# df.info()\n",
    "\n",
    "df = nan_to_median(df)\n",
    "df = convert_to_category(df)\n",
    "# Для проверки, что все работает\n",
    "# df.info()"
   ]
  }
 ],
 "metadata": {
  "kernelspec": {
   "display_name": "Python 3 (ipykernel)",
   "language": "python",
   "name": "python3"
  },
  "language_info": {
   "codemirror_mode": {
    "name": "ipython",
    "version": 3
   },
   "file_extension": ".py",
   "mimetype": "text/x-python",
   "name": "python",
   "nbconvert_exporter": "python",
   "pygments_lexer": "ipython3",
   "version": "3.11.1"
  }
 },
 "nbformat": 4,
 "nbformat_minor": 5
}
