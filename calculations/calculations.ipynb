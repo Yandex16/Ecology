{
 "cells": [
  {
   "cell_type": "code",
   "execution_count": 1,
   "metadata": {},
   "outputs": [],
   "source": [
    "import pandas as pd\n",
    "import numpy as np\n",
    "import seaborn as sns\n",
    "import matplotlib.pyplot as plt\n",
    "from matplotlib.dates import MonthLocator, DateFormatter\n",
    "from scipy.stats import spearmanr, mannwhitneyu\n",
    "from sklearn.ensemble import RandomForestRegressor\n",
    "from sklearn.model_selection import train_test_split\n",
    "from sklearn.linear_model import LinearRegression\n",
    "from sklearn.neighbors import KNeighborsRegressor\n",
    "from sklearn.tree import DecisionTreeRegressor\n",
    "from sklearn.metrics import mean_squared_error, r2_score\n",
    "import xgboost as xgb\n",
    "from sklearn.svm import SVR\n",
    "from scipy.stats import randint, uniform\n",
    "from sklearn.model_selection import RandomizedSearchCV"
   ]
  },
  {
   "cell_type": "markdown",
   "metadata": {},
   "source": [
    "Используйте это, если запускаете не в main.ipynb"
   ]
  },
  {
   "cell_type": "code",
   "execution_count": 2,
   "metadata": {},
   "outputs": [],
   "source": [
    "# PATH = '../analysing_environmental_issues.csv'\n",
    "# df = pd.read_csv(PATH, sep=\",\")\n",
    "# %run remove_outliers/remove_outliers_run.ipynb\n",
    "\n",
    "# df = hybrid_outlier_handling(df, df.columns[1:-1])\n",
    "# %run nans_and_columns/initial_data_handlers_run.ipynb\n",
    "\n",
    "# convert_to_DateTime(df)\n",
    "\n",
    "# df = nan_to_interpolate(df)\n",
    "# df = convert_to_category(df)"
   ]
  },
  {
   "cell_type": "code",
   "execution_count": null,
   "metadata": {},
   "outputs": [],
   "source": [
    "df.describe()"
   ]
  },
  {
   "cell_type": "markdown",
   "metadata": {},
   "source": [
    "Здесь я копирую из оригинального датафрейма столбцы, вырезанные в ходе предобработки."
   ]
  },
  {
   "cell_type": "code",
   "execution_count": null,
   "metadata": {},
   "outputs": [],
   "source": [
    "original_df = pd.read_csv(\"data_imputed_stage4gas_unfilled.csv\")\n",
    "\n",
    "# копируем столбец с опасным газом из оригинального датафрейма\n",
    "danger_gas = original_df['stage_4_output_danger_gas'].copy()\n",
    "datetime_column = pd.to_datetime(original_df['DateTime'])\n",
    "\n",
    "# добавляем столбец в текущий датафрейм\n",
    "df['stage_4_output_danger_gas'] = danger_gas\n",
    "df['DateTime'] = datetime_column"
   ]
  },
  {
   "cell_type": "code",
   "execution_count": null,
   "metadata": {},
   "outputs": [],
   "source": [
    "df.describe()"
   ]
  },
  {
   "cell_type": "code",
   "execution_count": null,
   "metadata": {},
   "outputs": [],
   "source": [
    "df.isna()"
   ]
  },
  {
   "cell_type": "markdown",
   "metadata": {},
   "source": [
    "# Проведение расчётов"
   ]
  },
  {
   "cell_type": "markdown",
   "metadata": {},
   "source": [
    "## Создать категорию опасности вредного газа от 1 до 3. \n",
    "Низкая опасность (1) показатель до 0.05, средняя(2) - от 0.05 до 0.16, высокая(3) - от 0.16"
   ]
  },
  {
   "cell_type": "code",
   "execution_count": 7,
   "metadata": {},
   "outputs": [],
   "source": [
    "def get_danger_category(value):\n",
    "    if pd.isna(value):\n",
    "        return np.nan\n",
    "    elif value <= 0.05:\n",
    "        return 1\n",
    "    elif value <= 0.16:\n",
    "        return 2\n",
    "    else:\n",
    "        return 3\n",
    "\n",
    "df['danger_category'] = df['stage_4_output_danger_gas'].apply(get_danger_category)\n",
    "\n",
    "# названия категорий\n",
    "category_names = {1: 'Низкая', 2: 'Средняя', 3: 'Высокая'}"
   ]
  },
  {
   "cell_type": "code",
   "execution_count": null,
   "metadata": {},
   "outputs": [],
   "source": [
    "# график распределения категорий\n",
    "plt.figure(figsize=(10, 6))\n",
    "df['danger_category'].value_counts().sort_index().plot(kind='bar')\n",
    "plt.title('Распределение категорий опасности газа')\n",
    "plt.xlabel('Категория опасности')\n",
    "plt.ylabel('Количество измерений')\n",
    "plt.xticks(range(3), ['Низкая', 'Средняя', 'Высокая'])\n",
    "plt.xticks(rotation=0)\n",
    "plt.show()"
   ]
  },
  {
   "cell_type": "markdown",
   "metadata": {},
   "source": [
    "## Создать сводную таблицу изменения параметров сгруппированную по дням без учета номера смены. Выведите суммарные показатели входных параметров. При однотипности парамтра проведите суммирования. Сделайте выводы по расходу ресурсов каждый день. Есть ли периоды, когда компания тратила больше ресурсов?"
   ]
  },
  {
   "cell_type": "code",
   "execution_count": 9,
   "metadata": {},
   "outputs": [],
   "source": [
    "input_params = [col for col in df.columns if 'input' in col]\n",
    "\n",
    "# группируем по дням и суммируем входные параметры\n",
    "daily_summary = df.groupby(df['DateTime'].dt.date)[input_params].sum()\n"
   ]
  },
  {
   "cell_type": "code",
   "execution_count": null,
   "metadata": {},
   "outputs": [],
   "source": [
    "daily_summary.head()"
   ]
  },
  {
   "cell_type": "code",
   "execution_count": null,
   "metadata": {},
   "outputs": [],
   "source": [
    "# # создаем график для каждого входного параметра\n",
    "# plt.figure(figsize=(15, 10))\n",
    "# for param in input_params:\n",
    "#     plt.plot(daily_summary.index, daily_summary[param], label=param, alpha=0.5)\n",
    "# plt.title('Расход отдельных ресурсов по дням')\n",
    "# plt.xlabel('Дата')\n",
    "# plt.ylabel('Расход')\n",
    "# plt.legend(bbox_to_anchor=(1.05, 1), loc='upper left')\n",
    "\n",
    "# plt.gca().xaxis.set_major_locator(MonthLocator())\n",
    "# plt.gca().xaxis.set_major_formatter(DateFormatter('%Y-%m'))\n",
    "# plt.xticks(rotation=45)\n",
    "\n",
    "# plt.tight_layout()\n",
    "# plt.show()\n",
    "\n",
    "# группируем данные по неделям resample и интерполируем пропущенные значения для читаемости\n",
    "daily_summary.index = pd.to_datetime(daily_summary.index)\n",
    "weekly_summary = daily_summary[input_params].resample('W').mean().interpolate(method='linear')\n",
    "\n",
    "# cоздаем график для каждого входного параметра\n",
    "plt.figure(figsize=(15, 10))\n",
    "\n",
    "for param in input_params:\n",
    "    plt.plot(weekly_summary.index, \n",
    "             weekly_summary[param], \n",
    "             label=param, \n",
    "             alpha=0.7,\n",
    "             linewidth=2)\n",
    "\n",
    "plt.title('Расход отдельных ресурсов (еженедельно)')\n",
    "plt.xlabel('Дата')\n",
    "plt.ylabel('Средний недельный расход')\n",
    "plt.legend(bbox_to_anchor=(1.05, 1), loc='upper left', \n",
    "          borderaxespad=0.)\n",
    "# ось X\n",
    "plt.gca().xaxis.set_major_locator(MonthLocator())\n",
    "plt.gca().xaxis.set_major_formatter(DateFormatter('%Y-%m'))\n",
    "plt.xticks(rotation=45)\n",
    "plt.show()"
   ]
  },
  {
   "cell_type": "code",
   "execution_count": null,
   "metadata": {},
   "outputs": [],
   "source": [
    "# группируем входные параметры (вода и пар) по типу ресурса\n",
    "water_params = [col for col in input_params if 'water' in col]\n",
    "steam_params = [col for col in input_params if 'steam' in col]\n",
    "other_params = [col for col in input_params if not any(x in col for x in ['water', 'steam'])]\n",
    "\n",
    "# создаем сводную таблицу по типам ресурсов\n",
    "daily_resource_types = pd.DataFrame(index=daily_summary.index)\n",
    "\n",
    "# суммируем однотипные ресурсы\n",
    "daily_resource_types['total_water'] = daily_summary[water_params].sum(axis=1)\n",
    "daily_resource_types['total_steam'] = daily_summary[steam_params].sum(axis=1)\n",
    "daily_resource_types['pressure'] = daily_summary['stage_3_input_pressure']\n",
    "daily_resource_types['polymer'] = daily_summary['stage_4_input_polymer']\n",
    "\n",
    "####################################################################\n",
    "# МЕНЕЕ ЧИТАЕМЫЙ, НО БОЛЕЕ ДЕТАЛЬНЫЙ ГРАФИК (СТАРАЯ ВЕРСИЯ)\n",
    "\n",
    "# # График общего расхода по типам ресурсов\n",
    "# plt.figure(figsize=(15, 8))\n",
    "# plt.plot(daily_resource_types.index, daily_resource_types['total_water'], label='Вода', alpha=0.7)\n",
    "# plt.plot(daily_resource_types.index, daily_resource_types['total_steam'], label='Пар', alpha=0.7)\n",
    "# plt.gca().xaxis.set_major_locator(MonthLocator())\n",
    "# plt.gca().xaxis.set_major_formatter(DateFormatter('%Y-%m'))\n",
    "\n",
    "# # особой информативности как по мне не несёт, но можно оставить\n",
    "# # plt.plot(daily_resource_types.index, daily_resource_types['pressure'], label='Давление', alpha=0.7) \n",
    "# # plt.plot(daily_resource_types.index, daily_resource_types['polymer'], label='Полимеры', alpha=0.7)\n",
    "\n",
    "# plt.title('Расход основных ресурсов по дням')\n",
    "# plt.xlabel('Дата')\n",
    "# plt.ylabel('Объем расхода')\n",
    "# plt.legend()\n",
    "# plt.grid(True, alpha=0.3)\n",
    "# plt.xticks(rotation=45)\n",
    "# plt.tight_layout()\n",
    "# plt.show()\n",
    "####################################################################\n",
    "\n",
    "# группируем по неделям и интерполируем пропущенные значения (для читаемости)\n",
    "weekly_resource_types = daily_resource_types.resample('W').mean().interpolate(method='linear')\n",
    "\n",
    "# График общего расхода по типам ресурсов\n",
    "plt.figure(figsize=(15, 8))\n",
    "\n",
    "plt.plot(weekly_resource_types.index, \n",
    "         weekly_resource_types['total_water'], \n",
    "         label='Вода', \n",
    "         alpha=0.7,\n",
    "         linewidth=2)\n",
    "\n",
    "plt.plot(weekly_resource_types.index, \n",
    "         weekly_resource_types['total_steam'], \n",
    "         label='Пар', \n",
    "         alpha=0.7,\n",
    "         linewidth=2)\n",
    "\n",
    "plt.title('Расход основных ресурсов (еженедельно)')\n",
    "plt.xlabel('Дата')\n",
    "plt.ylabel('Средний недельный расход')\n",
    "plt.legend()\n",
    "plt.grid(True, alpha=0.3)\n",
    "\n",
    "# Настройка оси X\n",
    "plt.gca().xaxis.set_major_locator(MonthLocator())\n",
    "plt.gca().xaxis.set_major_formatter(DateFormatter('%Y-%m'))\n",
    "plt.xticks(rotation=45)\n",
    "\n",
    "plt.tight_layout()\n",
    "plt.show()"
   ]
  },
  {
   "cell_type": "markdown",
   "metadata": {},
   "source": [
    "### Мне показалось, что не будет лишним также создать отдельные группы под потребление на каждом этапе производства"
   ]
  },
  {
   "cell_type": "code",
   "execution_count": null,
   "metadata": {},
   "outputs": [],
   "source": [
    "\n",
    "# группировка параметров по стадиям\n",
    "stage_2_params = [col for col in input_params if 'stage_2' in col]\n",
    "stage_3_params = [col for col in input_params if 'stage_3' in col]\n",
    "stage_4_params = [col for col in input_params if 'stage_4' in col]\n",
    "\n",
    "# создаем сводные таблицы по стадиям\n",
    "daily_stages = pd.DataFrame(index=daily_summary.index)\n",
    "daily_stages['stage_2'] = daily_summary[stage_2_params].sum(axis=1)\n",
    "daily_stages['stage_3'] = daily_summary[stage_3_params].sum(axis=1)\n",
    "daily_stages['stage_4'] = daily_summary[stage_4_params].sum(axis=1)\n",
    "\n",
    "####################################################################\n",
    "# МЕНЕЕ ЧИТАЕМЫЕ, НО БОЛЕЕ ДЕТАЛЬНЫЕ ГРАФИКИ (СТАРАЯ ВЕРСИЯ)\n",
    "\n",
    "# #  график по каждой стадии, суммарное потребление НЕ разделённое на категории (вода/пар/полимеры)\n",
    "# plt.figure(figsize=(15, 8))\n",
    "# for stage in daily_stages.columns:\n",
    "#     plt.plot(daily_stages.index, daily_stages[stage], label=f'Стадия {stage[-1]}', alpha=0.7)\n",
    "# plt.title('Потребление ресурсов по стадиям производства')\n",
    "# plt.xlabel('Дата')\n",
    "# plt.ylabel('Суммарный расход')\n",
    "# plt.legend()\n",
    "# plt.grid(True, alpha=0.3)\n",
    "# # цена деления - месяц\n",
    "# plt.gca().xaxis.set_major_locator(MonthLocator())\n",
    "# plt.gca().xaxis.set_major_formatter(DateFormatter('%Y-%m'))\n",
    "# plt.xticks(rotation=45)\n",
    "# plt.tight_layout()\n",
    "# plt.show()\n",
    "\n",
    "\n",
    "# fig, axes = plt.subplots(3, 1, figsize=(15, 15))\n",
    "# #  график по каждой стадии,  потребление по категориям (вода/пар/полимеры)\n",
    "# for idx, (stage_name, params) in enumerate(zip(['stage_2', 'stage_3', 'stage_4'], [stage_2_params, stage_3_params, stage_4_params])):\n",
    "#     for param in params:\n",
    "#         axes[idx].plot(daily_summary.index, daily_summary[param], label=param, alpha=0.7)\n",
    "#     axes[idx].set_title(f'Потребление ресурсов на стадии {stage_name[-1]}')\n",
    "#     axes[idx].set_xlabel('Дата')\n",
    "#     axes[idx].set_ylabel('Расход')\n",
    "#     axes[idx].legend()\n",
    "#     axes[idx].grid(True, alpha=0.3)\n",
    "#     # устанавливаем цену деления\n",
    "#     axes[idx].xaxis.set_major_locator(MonthLocator())\n",
    "#     axes[idx].xaxis.set_major_formatter(DateFormatter('%Y-%m'))\n",
    "#     axes[idx].tick_params(axis='x', rotation=45)\n",
    "\n",
    "# plt.tight_layout()\n",
    "# plt.show()\n",
    "\n",
    "####################################################################\n",
    "\n",
    "# стата по стадиям\n",
    "print(\"\\nстатистика расхода по стадиям:\")\n",
    "print(daily_stages.describe())\n"
   ]
  },
  {
   "cell_type": "code",
   "execution_count": null,
   "metadata": {},
   "outputs": [],
   "source": [
    "print('=' * 50)\n",
    "print('ГРАФИКИ ЕЖЕНЕДЕЛЬНОГО ПОТРЕБЛЕНИЯ')\n",
    "weekly_stages = daily_stages.resample('W').mean()\n",
    "\n",
    "# для графика интерполируем отсутствующие значения\n",
    "weekly_stages_interpolated = weekly_stages.interpolate(method='linear')\n",
    "\n",
    "# график по стадиям resample по неделям и интерполяцией\n",
    "plt.figure(figsize=(15, 8))\n",
    "for stage in weekly_stages_interpolated.columns:\n",
    "    plt.plot(weekly_stages_interpolated.index, weekly_stages_interpolated[stage], \n",
    "             label=f'Стадия {stage[-1]}', alpha=0.7, linewidth=2)\n",
    "    \n",
    "plt.title('Потребление ресурсов по стадиям производства (еженедельно)')\n",
    "plt.xlabel('Дата')\n",
    "plt.ylabel('Средний недельный расход')\n",
    "plt.legend()\n",
    "plt.grid(True, alpha=0.3)\n",
    "plt.gca().xaxis.set_major_locator(MonthLocator())\n",
    "plt.gca().xaxis.set_major_formatter(DateFormatter('%Y-%m'))\n",
    "plt.xticks(rotation=45)\n",
    "plt.tight_layout()\n",
    "plt.show()\n",
    "\n",
    "# графики по категориям с интерполяцией\n",
    "fig, axes = plt.subplots(3, 1, figsize=(15, 15))\n",
    "\n",
    "for idx, (stage_name, params) in enumerate(zip(['stage_2', 'stage_3', 'stage_4'], \n",
    "                                             [stage_2_params, stage_3_params, stage_4_params])):\n",
    "    weekly_data = daily_summary[params].resample('W').mean()\n",
    "    # Интерполируем пропущенные значения для каждого параметра\n",
    "    weekly_data_interpolated = weekly_data.interpolate(method='linear')\n",
    "    \n",
    "    for param in params:\n",
    "        axes[idx].plot(weekly_data_interpolated.index, weekly_data_interpolated[param], \n",
    "                      label=param, alpha=0.7, linewidth=2)\n",
    "    \n",
    "    axes[idx].set_title(f'Потребление ресурсов на стадии {stage_name[-1]} (еженедельно)')\n",
    "    axes[idx].set_xlabel('Дата')\n",
    "    axes[idx].set_ylabel('Средний недельный расход')\n",
    "    axes[idx].legend()\n",
    "    axes[idx].grid(True, alpha=0.3)\n",
    "    axes[idx].xaxis.set_major_locator(MonthLocator())\n",
    "    axes[idx].xaxis.set_major_formatter(DateFormatter('%Y-%m'))\n",
    "    axes[idx].tick_params(axis='x', rotation=45)\n",
    "\n",
    "plt.tight_layout()\n",
    "plt.show()"
   ]
  },
  {
   "cell_type": "markdown",
   "metadata": {},
   "source": [
    "Находим дни с максимальным суммарным потреблением. Пока что видно, что наиболее ресурсозатратным периодом является первая половина 2021. (Однако нельзя игнорировать факт, что она также является наиболее задокументированной)."
   ]
  },
  {
   "cell_type": "code",
   "execution_count": null,
   "metadata": {},
   "outputs": [],
   "source": [
    "# дни с максимальным потреблением по стадиям\n",
    "print(\"\\n 10 дней с максимальным потреблением\")\n",
    "for stage in daily_stages.columns:\n",
    "    peak_days = daily_stages[stage].nlargest(10)\n",
    "    print(f\"\\n{stage}:\")\n",
    "    print(peak_days)"
   ]
  },
  {
   "cell_type": "code",
   "execution_count": null,
   "metadata": {},
   "outputs": [],
   "source": [
    "daily_stages.head(20)"
   ]
  },
  {
   "cell_type": "markdown",
   "metadata": {},
   "source": [
    "Попробуем проанализировать периоды повышенного потребления ресурсов. Для этого я считаю \"средний расход\" за всё время (увы, работаем с тем, что есть...)\n",
    "Смотрю, насколько сильно реальный расход отличается от среднего и определяю порог высокого и критично выского потребления, используя Z-score (мера относительного разброса наблюдаемого или измеренного значения, которая показывает сколько стандартных отклонений составляет его разброс относительного среднего значения).\n",
    "Если расход сильно выше среднего несколько дней подряд - это явно проблема и, т.н \"тренд\", следовательно - стоит уделить этому периоду особое внимание."
   ]
  },
  {
   "cell_type": "code",
   "execution_count": null,
   "metadata": {},
   "outputs": [],
   "source": [
    "def analyze_daily_resource_usage(daily_summary):\n",
    "\n",
    "    daily_summary.index = pd.to_datetime(daily_summary.index)\n",
    "    \n",
    "    # рассчитываем общее потребление ресурсов за день\n",
    "    daily_total = daily_summary.sum(axis=1)\n",
    "    \n",
    "    mean_usage = daily_total.mean()\n",
    "    std_usage = daily_total.std()\n",
    "    \n",
    "    # определяем пороги для категорий потребления (используем z-score)\n",
    "    high_consuming = mean_usage + std_usage\n",
    "    very_high_consuming = mean_usage + 2*std_usage\n",
    "    \n",
    "    # категоризируем дни по уровню потребления\n",
    "    use_category = pd.Series(index=daily_total.index, dtype='object')\n",
    "    use_category[daily_total <= mean_usage] = 'Normal'\n",
    "    use_category[(daily_total > mean_usage) & (daily_total <= high_consuming)] = 'Above Average'\n",
    "    use_category[(daily_total > high_consuming) & (daily_total <= very_high_consuming)] = 'High'\n",
    "    use_category[daily_total > very_high_consuming] = 'Very High'\n",
    "    \n",
    "    # найдем периоды повышенного потребления\n",
    "    high_usage_periods = []\n",
    "    current_period = []\n",
    "    \n",
    "    for date, category in use_category.items():\n",
    "        if category in ['High', 'Very High']:\n",
    "            current_period.append(date)\n",
    "        elif len(current_period) > 0:\n",
    "            if len(current_period) >= 2:  # период 2 дня\n",
    "                high_usage_periods.append({\n",
    "                    'start': min(current_period),\n",
    "                    'end': max(current_period),\n",
    "                    'duration': len(current_period),\n",
    "                    'average_usage': daily_total[current_period].mean()\n",
    "                })\n",
    "            current_period = []\n",
    "            \n",
    "    # добавим последний период, если он существует\n",
    "    if len(current_period) >= 2:\n",
    "        high_usage_periods.append({\n",
    "            'start': min(current_period),\n",
    "            'end': max(current_period),\n",
    "            'duration': len(current_period),\n",
    "            'average_usage': daily_total[current_period].mean()\n",
    "        })\n",
    "    \n",
    "    # метод ресэмпл (определение из гугла):\n",
    "    # О методе .resample() можно думать как о группировке по времени, за которым следует метод агрегирования для каждой из его групп.\n",
    "    # Другими словами - это GroupBy основанный на времени. Его можно использовать непосредственно из объектов обычной группировки DataFrameGroupBy.\n",
    "\n",
    "    monthly_avg = daily_total.resample('M').mean()\n",
    "    monthly_trend = monthly_avg.pct_change()\n",
    "    \n",
    "    \n",
    "    \n",
    "    return {'daily_stats': {\n",
    "            'mean': mean_usage,\n",
    "            'std': std_usage,\n",
    "            'min': daily_total.min(),\n",
    "            'max': daily_total.max(),\n",
    "            'median': daily_total.median()\n",
    "        }, 'use_category': use_category, 'high_usage_periods': high_usage_periods, 'monthly_trend': monthly_trend, 'daily_total': daily_total\n",
    "    }\n",
    "\n",
    "\n",
    "def print_analysis_results(results): #красивый вывод результата\n",
    "    print(\"\\n___ Статистика ежедневного потребления ресурсов: ___\\n\")\n",
    "    print('------------------------------------------------------------')\n",
    "    print(f\"Среднее потребление: {results['daily_stats']['mean']:.2f}\")\n",
    "    print(f\"Стандартное отклонение: {results['daily_stats']['std']:.2f}\")\n",
    "    print(f\"Минимальное потребление: {results['daily_stats']['min']:.2f}\")\n",
    "    print(f\"Максимальное потребление: {results['daily_stats']['max']:.2f}\")\n",
    "    print(f\"Медианное потребление: {results['daily_stats']['median']:.2f}\")\n",
    "    print('------------------------------------------------------------')  \n",
    "\n",
    "    print(\"\\n___ Периоды повышенного потребления: ___\")\n",
    "    for period in results['high_usage_periods']:\n",
    "        print(f\"\\nПериод: {period['start'].date()} - {period['end'].date()}\")\n",
    "        print(f\"Длительность: {period['duration']} дней\")\n",
    "        print(f\"Среднее потребление: {period['average_usage']:.2f}\")\n",
    "    print('------------------------------------------------------------')    \n",
    "\n",
    "\n",
    "\n",
    "results = analyze_daily_resource_usage(daily_summary)\n",
    "print_analysis_results(results)"
   ]
  },
  {
   "cell_type": "markdown",
   "metadata": {},
   "source": [
    "**В итоге, следующие периоды имели тренд на повышенное потребление суммарных ресурсов:**\n",
    "\n",
    "1) 2021-11-22 - 2021-12-03 (12 дней)\n",
    "2) 2021-12-21 - 2021-12-28 (8 дней)\n",
    "3) 2022-02-22 - 2022-03-01 (8 дней)\n",
    "\n",
    "Немного ранее мы заметили, что сильные скачки потребления приходились на первую половину 2021 (опираясь на максимальные значения потребления). Они тоже есть в списке периодов повышенного потребления! Однако их длительность не превышает двух дней, т.е есть смысл предполагать, что имели место быть ВСПЫШКИ повышенного потребления ресурсов."
   ]
  },
  {
   "cell_type": "markdown",
   "metadata": {},
   "source": [
    "## Создать сводную таблицу изменения категории опасности сгруппированную по месяцам. Выводите ту категорию, которая была чаще всего в месяца. Есть ли в течении года периоды, когда производство было самым опасным?\n"
   ]
  },
  {
   "cell_type": "code",
   "execution_count": 17,
   "metadata": {},
   "outputs": [],
   "source": [
    "# создаем сводную таблицу изменения категории опасности (группировка по месяцам)\n",
    "monthly_summary = df.groupby(df['DateTime'].dt.strftime('%Y-%m')).agg({'danger_category': lambda x: x.mode().iloc[0] if not x.mode().empty else np.nan, 'stage_4_output_danger_gas': 'mean', 'DateTime': 'count'\n",
    "}).rename(columns={'danger_category': 'most_common_category',\n",
    "    'stage_4_output_danger_gas': 'avg_danger_gas',\n",
    "    'DateTime': 'count' # важный столбец!\n",
    "})\n",
    "\n",
    "\n",
    "monthly_summary['most_common_category'] = monthly_summary['most_common_category'].map(category_names)\n",
    "\n"
   ]
  },
  {
   "cell_type": "code",
   "execution_count": null,
   "metadata": {},
   "outputs": [],
   "source": [
    "print(\"Сводная таблица по месяцам:\")\n",
    "monthly_summary\n"
   ]
  },
  {
   "cell_type": "markdown",
   "metadata": {},
   "source": [
    "**После группировки данных по месяцу, видны некоторые особенности распределения количества наблюдений, в частности:**\n",
    "\n",
    "1. полностью отсутствуют данные за некоторые месяцы\n",
    "2. крупный разброс в количестве измерений по месяцам (варьируется от 20 до 418.)\n",
    "\n",
    "**Что с этим делать?**\n",
    "Есть вариант добавить \"веса\" для тех месяцев, что более детально отображают реальное положение дел на производстве (наблюдений больше), либо как-нибудь поделить временные промежутки, чтобы \"уровнять\" данные... Не знаю пока, в общем"
   ]
  },
  {
   "cell_type": "code",
   "execution_count": null,
   "metadata": {},
   "outputs": [],
   "source": [
    "# также можем добавить проверку распределения категорий опасности по каждому месяцу\n",
    "print(\"\\nРаспределение категорий по месяцам:\")\n",
    "monthly_distribution = df.groupby(df['DateTime'].dt.strftime('%Y-%m'))['danger_category'].value_counts()\n",
    "for month_year, category_counts in monthly_distribution.groupby(level=0):\n",
    "    print(month_year)\n",
    "    print(category_counts)\n",
    "    print(\"----------------------------\")"
   ]
  },
  {
   "cell_type": "markdown",
   "metadata": {},
   "source": [
    "**\"Рекордсмены\" по абсолютному (!!! т.е без учета численности выборки и тд) количеству наблюдений с отметкой о высокой опасности газа:**\n",
    "\n",
    "1) 2021-02 (22)\n",
    "2) 2021-12 (40)\n",
    "3) 2022-03 (27)"
   ]
  },
  {
   "cell_type": "markdown",
   "metadata": {},
   "source": [
    "## Для каждой категории вывести среднее значение каждого параметра (без учета номера смены). Есть ли заметные отличия типа категории?"
   ]
  },
  {
   "cell_type": "markdown",
   "metadata": {},
   "source": [
    "**Нам необходимо вывести среднее значение каждого параметра без учета смены. Для наглядности сделаем табличку средних значений (и табличку динамики в процентах, т.е как меняется ср. значение с категорией) и построим графики**"
   ]
  },
  {
   "cell_type": "code",
   "execution_count": null,
   "metadata": {},
   "outputs": [],
   "source": [
    "def analyze_data(df, category_names):\n",
    "    numeric_cols = df.select_dtypes(include=[np.number]).columns\n",
    "    parameters = [col for col in numeric_cols if col not in ['work_shift', 'stage_4_output_danger_gas', 'danger_category']]\n",
    "    \n",
    "    # создаем базовую таблицу средних значений\n",
    "    means = df.groupby('danger_category')[parameters].mean().round(2)\n",
    "    means.index = means.index.map(category_names)\n",
    "    \n",
    "    # изменения процентные\n",
    "    changes = pd.DataFrame(index=parameters)\n",
    "    changes['Low_to_Med_%'] = ((means.loc['Средняя'] / means.loc['Низкая'] - 1) * 100).round(1)\n",
    "    changes['Med_to_High_%'] = ((means.loc['Высокая'] / means.loc['Средняя'] - 1) * 100).round(1)\n",
    "    \n",
    "    # не суди да не судим будешь...\n",
    "    param_description = {\n",
    "        'stage_1_output_konv_avd': 'Стадия 1 / Конверсия сырья',\n",
    "        'stage_2_input_water_sum': 'Стадия 2 / Подача воды',\n",
    "        'stage_2_output_bottom_pressure': 'Стадия 2 / Давление низа',\n",
    "        'stage_2_output_bottom_temp': 'Стадия 2 / Температура низа',\n",
    "        'stage_2_output_bottom_temp_hum_steam': 'Стадия 2 / Температура пара низа',\n",
    "        'stage_2_output_bottom_vacuum': 'Стадия 2 / Вакуум низа',\n",
    "        'stage_2_output_top_pressure': 'Стадия 2 / Давление верха',\n",
    "        'stage_2_output_top_pressure_at_end': 'Стадия 2 / Давление верха на выходе',\n",
    "        'stage_2_output_top_temp': 'Стадия 2 / Температура верха',\n",
    "        'stage_2_output_top_vacuum': 'Стадия 2 / Вакуум верха',\n",
    "        'stage_3_input_pressure': 'Стадия 3 / Подаваемое давление',\n",
    "        'stage_3_input_soft_water': 'Стадия 3 / Подача смягченной воды',\n",
    "        'stage_3_input_steam': 'Стадия 3 / Подача пара',\n",
    "        'stage_3_output_temp_hum_steam': 'Стадия 3 / Температура пара',\n",
    "        'stage_3_output_temp_top': 'Стадия 3 / Температура верха',\n",
    "        'stage_4_input_overheated_steam': 'Стадия 4 / Подача перегретого пара',\n",
    "        'stage_4_input_polymer': 'Стадия 4 / Подача полимера',\n",
    "        'stage_4_input_steam': 'Стадия 4 / Подача пара',\n",
    "        'stage_4_input_water': 'Стадия 4 / Подача воды',\n",
    "        'stage_4_output_dry_residue_avg': 'Стадия 4 / Сухой остаток',\n",
    "        'stage_4_output_product': 'Стадия 4 / Готовый продукт'\n",
    "    }\n",
    "    \n",
    "    # переименовываем параметры\n",
    "    result = means.copy()\n",
    "    result.columns = [param_description[col] for col in parameters]\n",
    "    result = result.T\n",
    "    \n",
    "    changes.index = [param_description[col] for col in parameters]\n",
    "    \n",
    "    # пробегаем по стадиям и делаем анализ категорий\n",
    "    for stage in range(1, 5):\n",
    "        stage_params = [p for p in result.index if f'Стадия {stage}' in p]\n",
    "        if stage_params:\n",
    "            print(\"===========================================\")\n",
    "            print(f\"СТАДИЯ {stage}\")\n",
    "            print(\"===========================================\")\n",
    "            \n",
    "            # график\n",
    "            plt.figure(figsize=(12, 6))\n",
    "            x = np.arange(len(stage_params))\n",
    "            width = 0.25\n",
    "            \n",
    "            plt.bar(x - width, result.loc[stage_params, 'Низкая'], width, label='Низкая', alpha=0.8)\n",
    "            plt.bar(x, result.loc[stage_params, 'Средняя'], width, label='Средняя', alpha=0.8)\n",
    "            plt.bar(x + width, result.loc[stage_params, 'Высокая'], width, label='Высокая', alpha=0.8)\n",
    "            \n",
    "            plt.title(f'Стадия {stage}: Параметры по категориям')\n",
    "            plt.xticks(x, [p.split('/')[1].strip() for p in stage_params], rotation=45, ha='right')\n",
    "            plt.legend()\n",
    "            plt.grid(True, alpha=0.3)\n",
    "            plt.tight_layout()\n",
    "            plt.show()\n",
    "            \n",
    "            # анализ каждого параметра\n",
    "            for param in stage_params:\n",
    "                low_val = result.loc[param, 'Низкая']\n",
    "                med_val = result.loc[param, 'Средняя']\n",
    "                high_val = result.loc[param, 'Высокая']\n",
    "                \n",
    "                low_to_med = ((med_val/low_val) -1)* 100\n",
    "                med_to_high = ((high_val/med_val)-1)*100\n",
    "                \n",
    "                print(f\"\\n{param.split('/')[1].strip()}:\")\n",
    "                print(f\"Низкая категория: {low_val:.2f}\")\n",
    "                print(f\"Средняя категория: {med_val:.2f} (изменение: {low_to_med:.1f}%)\")\n",
    "                print(f\"Высокая категория: {high_val:.2f} (изменение: {med_to_high:.1f}%)\")\n",
    "                \n",
    "                if abs(low_to_med) > 5 or abs(med_to_high) > 5:\n",
    "                    print(\"!!! Значимое изменение !!!\")\n",
    "    \n",
    "    return result, changes\n",
    "\n",
    "\n",
    "result, changes = analyze_data(df, category_names)"
   ]
  },
  {
   "cell_type": "markdown",
   "metadata": {},
   "source": [
    "**Таблицы:**"
   ]
  },
  {
   "cell_type": "code",
   "execution_count": null,
   "metadata": {},
   "outputs": [],
   "source": [
    "changes"
   ]
  },
  {
   "cell_type": "code",
   "execution_count": null,
   "metadata": {},
   "outputs": [],
   "source": [
    "result"
   ]
  },
  {
   "cell_type": "markdown",
   "metadata": {},
   "source": [
    "**Анализируя данные, можно выделить основные моменты:**\n",
    "\n",
    "**1) Наиболее важные изменения происходят на 4-й стадии производства:**\n",
    "\n",
    "1. Подача воды увеличивается (+28%)! при средней опасности\n",
    "2. Подача пара возрастает на 18%\n",
    "3. Подача полимера повышается на 7%\n",
    "4. Количество готового продукта падает на 4% при высокой опасности производства!!!\n",
    "\n",
    "\n",
    "**2) На 2 стадии:**\n",
    "\n",
    "1. Подача воды увеличивается на 11%\n",
    "2. Давление низа возрастает на 6%\n",
    "3. Немножко снижается вакуум верха (-4.0% и -4.5%)\n",
    "\n",
    "\n",
    "**3) На 3 стадии:**\n",
    "\n",
    "1. Подача смягченной воды снижается на 9.1%\n",
    "\n",
    "\n",
    "**4) На 1-й стадии изменения самые незначительные:**\n",
    "\n",
    "1. Конверсия сырья увеличивается на 4.7%\n",
    "\n",
    "**Промежуточный вывод таков:** наибольшее влияние на опасность газа оказывает повышенная подача воды и пара на 4-й стадии. При этом эффективность производства падает (меньше готового продукта)."
   ]
  },
  {
   "cell_type": "code",
   "execution_count": null,
   "metadata": {},
   "outputs": [],
   "source": []
  },
  {
   "cell_type": "code",
   "execution_count": null,
   "metadata": {},
   "outputs": [],
   "source": []
  }
 ],
 "metadata": {
  "kernelspec": {
   "display_name": "Python 3 (ipykernel)",
   "language": "python",
   "name": "python3"
  },
  "language_info": {
   "codemirror_mode": {
    "name": "ipython",
    "version": 3
   },
   "file_extension": ".py",
   "mimetype": "text/x-python",
   "name": "python",
   "nbconvert_exporter": "python",
   "pygments_lexer": "ipython3",
   "version": "3.11.1"
  }
 },
 "nbformat": 4,
 "nbformat_minor": 4
}
